{
 "cells": [
  {
   "cell_type": "markdown",
   "metadata": {},
   "source": [
    "**GO Relationship Import**"
   ]
  },
  {
   "cell_type": "markdown",
   "metadata": {},
   "source": [
    "**Guide to parsing OBO ontology data into a tab delimited file**\n",
    "1. Download the gene ontology file with `wget http://current.geneontology.org/ontology/go-basic.obo`.\n",
    "2. Delete the first few lines until \"[Term]\" is the first line of the file.\n",
    "3. Utilize the following functions to parse the ontology data into a tab delimited file. If you download this notebook and have the `go-basic.obo` file in the same directory, then you can simply run the following cells to output a tab delimited file:"
   ]
  },
  {
   "cell_type": "markdown",
   "metadata": {},
   "source": [
    "First, get the \"is_a\" relationships."
   ]
  },
  {
   "cell_type": "code",
   "execution_count": 1,
   "metadata": {},
   "outputs": [],
   "source": [
    "import re\n",
    "import json\n",
    "\n",
    "# Open the input file for reading\n",
    "with open('go-basic.obo', 'r') as input_file:\n",
    "    # Open a file for writing the tab-delimited rows\n",
    "    with open('output_file.tsv', 'w') as output_file:\n",
    "        # Write header\n",
    "        output_file.write(\"id\\tis_a\\n\")\n",
    "\n",
    "        # Initialize variables to store id and relationships\n",
    "        current_id = \"\"\n",
    "        is_a = []\n",
    "\n",
    "        # Iterate through each line in the input file\n",
    "        for line in input_file:\n",
    "            line = line.strip()\n",
    "\n",
    "            # Check if the line starts with \"[Term]\"\n",
    "            if line.startswith(\"[Term]\"):\n",
    "                # If a previous term had relationships, write them to the output file\n",
    "                if current_id and is_a:\n",
    "                    for i in is_a:\n",
    "                        output_file.write(f\"{current_id}\\t{i}\\n\")\n",
    "\n",
    "                # Reset variables for the new term\n",
    "                current_id = \"\"\n",
    "                is_a = []\n",
    "            elif line.startswith(\"id:\"):\n",
    "                current_id = line.replace(\"id: \", \"\")\n",
    "            elif line.startswith(\"is_a:\"):\n",
    "                is_a.append(line.split(\"is_a:\")[1].strip().split()[0])\n",
    "\n",
    "        # Write the last term's relationships if any\n",
    "        if current_id and is_a:\n",
    "            for i in is_a:\n",
    "                output_file.write(f\"{current_id}\\t{i}\\n\")\n"
   ]
  },
  {
   "cell_type": "markdown",
   "metadata": {},
   "source": [
    "Next add a new column to ease import into Neo4j."
   ]
  },
  {
   "cell_type": "code",
   "execution_count": 2,
   "metadata": {},
   "outputs": [
    {
     "name": "stdout",
     "output_type": "stream",
     "text": [
      "                      id         id2  is_a\n",
      "0             GO:0000001  GO:0048308  is_a\n",
      "1             GO:0000001  GO:0048311  is_a\n",
      "2             GO:0000002  GO:0007005  is_a\n",
      "3             GO:0000003  GO:0008150  is_a\n",
      "4             GO:0000006  GO:0005385  is_a\n",
      "...                  ...         ...   ...\n",
      "68311  term_tracker_item  GO:0120255  is_a\n",
      "68312  term_tracker_item  GO:1901362  is_a\n",
      "68313  term_tracker_item  GO:2001316  is_a\n",
      "68314  term_tracker_item   regulates  is_a\n",
      "68315  term_tracker_item   regulates  is_a\n",
      "\n",
      "[68316 rows x 3 columns]\n"
     ]
    }
   ],
   "source": [
    "import pandas as pd\n",
    "\n",
    "# Step 2: Read the tab-delimited file into a DataFrame\n",
    "file_path = 'go_is_a.tsv'\n",
    "df = pd.read_csv(file_path, sep='\\t')\n",
    "\n",
    "# Step 3: Add a new column to the DataFrame\n",
    "df['is_a'] = 'is_a'\n",
    "\n",
    "# Step 4: Save the modified DataFrame to a new file\n",
    "output_file_path = 'is_a_import.tsv'\n",
    "df.to_csv(output_file_path, sep='\\t', index=False)\n",
    "\n",
    "# Display the DataFrame\n",
    "print(df)"
   ]
  },
  {
   "cell_type": "markdown",
   "metadata": {},
   "source": [
    "Delete the last 8 lines that start with \"term_tracker_item\"."
   ]
  },
  {
   "cell_type": "markdown",
   "metadata": {},
   "source": [
    "Now extract the relationship data between GO terms."
   ]
  },
  {
   "cell_type": "code",
   "execution_count": 1,
   "metadata": {},
   "outputs": [],
   "source": [
    "# Open the input file for reading\n",
    "with open('go-basic.obo', 'r') as input_file:\n",
    "    # Open a file for writing the tab-delimited rows\n",
    "    with open('output_file.tsv', 'w') as output_file:\n",
    "        # Write header\n",
    "        output_file.write(\"id\\trelationship\\n\")\n",
    "\n",
    "        # Initialize variables to store id and relationships\n",
    "        current_id = \"\"\n",
    "        relationships = []\n",
    "\n",
    "        # Iterate through each line in the input file\n",
    "        for line in input_file:\n",
    "            line = line.strip()\n",
    "\n",
    "            # Check if the line starts with \"[Term]\"\n",
    "            if line.startswith(\"[Term]\"):\n",
    "                # If a previous term had relationships, write them to the output file\n",
    "                if current_id and relationships:\n",
    "                    for relationship in relationships:\n",
    "                        output_file.write(f\"{current_id}\\t{relationship}\\n\")\n",
    "\n",
    "                # Reset variables for the new term\n",
    "                current_id = \"\"\n",
    "                relationships = []\n",
    "            elif line.startswith(\"id:\"):\n",
    "                current_id = line.replace(\"id: \", \"\")\n",
    "            elif line.startswith(\"relationship:\"):\n",
    "                relationships.append(line.split(\"relationship:\")[1].strip())\n",
    "\n",
    "        # Write the last term's relationships if any\n",
    "        if current_id and relationships:\n",
    "            for relationship in relationships:\n",
    "                output_file.write(f\"{current_id}\\t{relationship}\\n\")\n"
   ]
  },
  {
   "cell_type": "markdown",
   "metadata": {},
   "source": [
    "Parse only the relevant relationship data from the new tab delimited file."
   ]
  },
  {
   "cell_type": "code",
   "execution_count": 3,
   "metadata": {},
   "outputs": [
    {
     "name": "stdout",
     "output_type": "stream",
     "text": [
      "               id          relationship         id2\n",
      "0      GO:0000015               part_of  GO:0005829\n",
      "1      GO:0000018             regulates  GO:0006310\n",
      "2      GO:0000019             regulates  GO:0006312\n",
      "3      GO:0000022               part_of  GO:0000070\n",
      "4      GO:0000022               part_of  GO:0007052\n",
      "...           ...                   ...         ...\n",
      "15262  GO:2001284             regulates  GO:0038055\n",
      "15263  GO:2001285  negatively_regulates  GO:0038055\n",
      "15264  GO:2001286             regulates  GO:0072584\n",
      "15265  GO:2001287  negatively_regulates  GO:0072584\n",
      "15266  GO:2001288  positively_regulates  GO:0072584\n",
      "\n",
      "[15267 rows x 3 columns]\n"
     ]
    }
   ],
   "source": [
    "import pandas as pd\n",
    "\n",
    "file_path = 'go-relationship.tsv'\n",
    "df = pd.read_csv(file_path, sep='\\t')\n",
    "\n",
    "df['id2'] = df['relationship'].str.split(' ').str[1]\n",
    "\n",
    "df['relationship'] = df['relationship'].str.split(' ').str[0]\n",
    "\n",
    "output_file_path = 'relationship_import.tsv'\n",
    "df.to_csv(output_file_path, sep='\\t', index=False)\n",
    "\n",
    "# Display the DataFrame\n",
    "print(df)"
   ]
  }
 ],
 "metadata": {
  "kernelspec": {
   "display_name": "base",
   "language": "python",
   "name": "python3"
  },
  "language_info": {
   "codemirror_mode": {
    "name": "ipython",
    "version": 3
   },
   "file_extension": ".py",
   "mimetype": "text/x-python",
   "name": "python",
   "nbconvert_exporter": "python",
   "pygments_lexer": "ipython3",
   "version": "3.9.6"
  },
  "orig_nbformat": 4
 },
 "nbformat": 4,
 "nbformat_minor": 2
}
