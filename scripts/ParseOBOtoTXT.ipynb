{
 "cells": [
  {
   "cell_type": "markdown",
   "metadata": {},
   "source": [
    "**Guide to parsing OBO ontology data into a tab delimited file**\n",
    "1. Download the gene ontology file with `wget http://current.geneontology.org/ontology/go.obo`.\n",
    "2. Delete the first few lines until \"[Term]\" is the first line of the file.\n",
    "3. Utilize the `parse_obo` function to parse the ontology data into a tab delimited file. If you download this notebook and have the `go.obo` file in the same directory, then you can simply run the following cells to output a tab delimited file:"
   ]
  },
  {
   "cell_type": "code",
   "execution_count": 1,
   "metadata": {},
   "outputs": [],
   "source": [
    "# Define a function to parse the text file and save it as a tab-delimited file\n",
    "def parse_obo(filename, output_filename):\n",
    "    data = []\n",
    "    current_entry = {}\n",
    "\n",
    "    with open(filename, 'r') as file:\n",
    "        for line in file:\n",
    "            line = line.strip()\n",
    "            if line.startswith('['):\n",
    "                # If a new entry starts, save the current entry and start a new one\n",
    "                if current_entry:\n",
    "                    data.append(current_entry)\n",
    "                current_entry = {}\n",
    "            elif line:\n",
    "                # Split the line into key and value\n",
    "                key, value = map(str.strip, line.split(':', 1))\n",
    "                current_entry[key] = value\n",
    "\n",
    "    # Append the last entry\n",
    "    if current_entry:\n",
    "        data.append(current_entry)\n",
    "\n",
    "    # Save the data as a tab-delimited file\n",
    "    with open(output_filename, 'w') as output_file:\n",
    "        # Write the column headers (keys from the first entry)\n",
    "        if data:\n",
    "            headers = data[0].keys()\n",
    "            output_file.write('\\t'.join(headers) + '\\n')\n",
    "\n",
    "            # Write the data\n",
    "            for entry in data:\n",
    "                values = [entry.get(header, '') for header in headers]\n",
    "                output_file.write('\\t'.join(values) + '\\n')\n"
   ]
  },
  {
   "cell_type": "markdown",
   "metadata": {},
   "source": [
    "Initial data import (2023-09-29)"
   ]
  },
  {
   "cell_type": "code",
   "execution_count": null,
   "metadata": {},
   "outputs": [],
   "source": [
    "# Call the function with your file names\n",
    "input_filename = 'go.obo'\n",
    "output_filename = 'go_temp.txt'\n",
    "parse_obo(input_filename, output_filename)"
   ]
  },
  {
   "cell_type": "markdown",
   "metadata": {},
   "source": [
    "Never annotate list (2024-03-28)"
   ]
  },
  {
   "cell_type": "code",
   "execution_count": null,
   "metadata": {},
   "outputs": [],
   "source": [
    "# Call the function with your file names\n",
    "input_filename = 'gocheck_do_not_annotate.obo'\n",
    "output_filename = 'gocheck_do_not_annotate_temp.txt'\n",
    "parse_obo(input_filename, output_filename)"
   ]
  },
  {
   "cell_type": "markdown",
   "metadata": {},
   "source": [
    "Update (2024-07-17)"
   ]
  },
  {
   "cell_type": "code",
   "execution_count": 7,
   "metadata": {},
   "outputs": [],
   "source": [
    "# Call the function with your files that you wget from the official website:\n",
    "input_filename = 'go_2024-07-17.obo'\n",
    "output_filename = 'go_2024-07-17_temp.txt'\n",
    "parse_obo(input_filename, output_filename)\n",
    "\n",
    "input_filename = 'gocheck_do_not_annotate_2024-07-17.obo'\n",
    "output_filename = 'gocheck_do_not_annotate_2024-07-17_temp.txt'\n",
    "parse_obo(input_filename, output_filename)"
   ]
  },
  {
   "cell_type": "markdown",
   "metadata": {},
   "source": [
    "4. Neo4j doesn't like having strings after quotation marks, so now we remove all the double quotes from the file with the following cells:"
   ]
  },
  {
   "cell_type": "code",
   "execution_count": 3,
   "metadata": {},
   "outputs": [],
   "source": [
    "def remove_quotation_marks(input_file, output_file):\n",
    "    \"\"\"\n",
    "    Removes quotation marks from a text file and saves the result to another file.\n",
    "\n",
    "    Args:\n",
    "        input_file (str): Path to the input text file.\n",
    "        output_file (str): Path to the output text file.\n",
    "    \"\"\"\n",
    "    try:\n",
    "        with open(input_file, 'r') as infile, open(output_file, 'w') as outfile:\n",
    "            for line in infile:\n",
    "                modified_line = line.replace('\"', '')\n",
    "                outfile.write(modified_line)\n",
    "        print(f'Quotation marks removed from {input_file} and saved to {output_file}')\n",
    "    except FileNotFoundError:\n",
    "        print(f'Error: File not found - {input_file}')"
   ]
  },
  {
   "cell_type": "code",
   "execution_count": 5,
   "metadata": {},
   "outputs": [
    {
     "name": "stdout",
     "output_type": "stream",
     "text": [
      "Quotation marks removed from go_temp.txt and saved to go.txt\n"
     ]
    }
   ],
   "source": [
    "import os\n",
    "# Example usage:\n",
    "input_file_path = 'go_temp.txt'  # Replace with the path to your input file.\n",
    "output_file_path = 'go.txt'  # Replace with the path where you want to save the output.\n",
    "remove_quotation_marks(input_file_path, output_file_path)\n",
    "os.remove(input_file_path)"
   ]
  },
  {
   "cell_type": "code",
   "execution_count": null,
   "metadata": {},
   "outputs": [],
   "source": [
    "import os\n",
    "# Example usage:\n",
    "input_file_path = 'gocheck_do_not_annotate_temp.txt'  # Replace with the path to your input file.\n",
    "output_file_path = 'gocheck_do_not_annotate.txt'  # Replace with the path where you want to save the output.\n",
    "remove_quotation_marks(input_file_path, output_file_path)\n",
    "os.remove(input_file_path)"
   ]
  },
  {
   "cell_type": "code",
   "execution_count": 8,
   "metadata": {},
   "outputs": [
    {
     "name": "stdout",
     "output_type": "stream",
     "text": [
      "Quotation marks removed from go_2024-07-17_temp.txt and saved to go_2024-07-17.txt\n",
      "Quotation marks removed from gocheck_do_not_annotate_2024-07-17_temp.txt and saved to gocheck_do_not_annotate_2024-07-17.txt\n"
     ]
    }
   ],
   "source": [
    "import os\n",
    "# Remove quotes:\n",
    "input_file_path = 'go_2024-07-17_temp.txt'  # Replace with the path to your input file.\n",
    "output_file_path = 'go_2024-07-17.txt'  # Replace with the path where you want to save the output.\n",
    "remove_quotation_marks(input_file_path, output_file_path)\n",
    "os.remove(input_file_path)\n",
    "\n",
    "input_file_path = 'gocheck_do_not_annotate_2024-07-17_temp.txt'  # Replace with the path to your input file.\n",
    "output_file_path = 'gocheck_do_not_annotate_2024-07-17.txt'  # Replace with the path where you want to save the output.\n",
    "remove_quotation_marks(input_file_path, output_file_path)\n",
    "os.remove(input_file_path)"
   ]
  },
  {
   "cell_type": "markdown",
   "metadata": {},
   "source": [
    "5. Remove the last few lines of the `go.txt` file that have a different format than the preceding lines. There should be a total of 47596 lines in the final `go.txt` file.\n",
    "6. Place the `go.txt` file into the `~/neo4j/import/` directory and continue with the `DataImportTutorial.md` guide."
   ]
  }
 ],
 "metadata": {
  "kernelspec": {
   "display_name": "base",
   "language": "python",
   "name": "python3"
  },
  "language_info": {
   "codemirror_mode": {
    "name": "ipython",
    "version": 3
   },
   "file_extension": ".py",
   "mimetype": "text/x-python",
   "name": "python",
   "nbconvert_exporter": "python",
   "pygments_lexer": "ipython3",
   "version": "3.9.6"
  },
  "orig_nbformat": 4
 },
 "nbformat": 4,
 "nbformat_minor": 2
}
