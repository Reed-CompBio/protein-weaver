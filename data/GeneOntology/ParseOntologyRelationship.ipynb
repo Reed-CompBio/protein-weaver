{
 "cells": [
  {
   "cell_type": "markdown",
   "metadata": {},
   "source": [
    "**GO Relationship Import**"
   ]
  },
  {
   "cell_type": "markdown",
   "metadata": {},
   "source": [
    "First, get the \"is_a\" relationship."
   ]
  },
  {
   "cell_type": "code",
   "execution_count": 4,
   "metadata": {},
   "outputs": [],
   "source": [
    "import re\n",
    "import json\n",
    "\n",
    "# Open the input file for reading\n",
    "with open('go_2024-07-17.obo', 'r') as input_file:\n",
    "    # Open a file for writing the tab-delimited rows\n",
    "    with open('is_a_temp.tsv', 'w') as output_file:\n",
    "        # Write header\n",
    "        output_file.write(\"id\\tid2\\n\")\n",
    "\n",
    "        # Initialize variables to store id and relationships\n",
    "        current_id = \"\"\n",
    "        is_a = []\n",
    "\n",
    "        # Iterate through each line in the input file\n",
    "        for line in input_file:\n",
    "            line = line.strip()\n",
    "\n",
    "            # Check if the line starts with \"[Term]\"\n",
    "            if line.startswith(\"[Term]\"):\n",
    "                # If a previous term had relationships, write them to the output file\n",
    "                if current_id and is_a:\n",
    "                    for i in is_a:\n",
    "                        output_file.write(f\"{current_id}\\t{i}\\n\")\n",
    "\n",
    "                # Reset variables for the new term\n",
    "                current_id = \"\"\n",
    "                is_a = []\n",
    "            elif line.startswith(\"id:\"):\n",
    "                current_id = line.replace(\"id: \", \"\")\n",
    "            elif line.startswith(\"is_a:\"):\n",
    "                is_a.append(line.split(\"is_a:\")[1].strip().split()[0])\n",
    "\n",
    "        # Write the last term's relationships if any\n",
    "        if current_id and is_a:\n",
    "            for i in is_a:\n",
    "                output_file.write(f\"{current_id}\\t{i}\\n\")"
   ]
  },
  {
   "cell_type": "markdown",
   "metadata": {},
   "source": [
    "Next add a new column to ease import into Neo4j."
   ]
  },
  {
   "cell_type": "code",
   "execution_count": 5,
   "metadata": {},
   "outputs": [
    {
     "name": "stdout",
     "output_type": "stream",
     "text": [
      "                      id          id2  is_a\n",
      "0             GO:0000001   GO:0048308  is_a\n",
      "1             GO:0000001   GO:0048311  is_a\n",
      "2             GO:0000002   GO:0007005  is_a\n",
      "3             GO:0000006   GO:0005385  is_a\n",
      "4             GO:0000007   GO:0005385  is_a\n",
      "...                  ...          ...   ...\n",
      "66170  term_tracker_item   GO:0120255  is_a\n",
      "66171  term_tracker_item   GO:2001316  is_a\n",
      "66172  term_tracker_item  ends_during  is_a\n",
      "66173  term_tracker_item    regulates  is_a\n",
      "66174  term_tracker_item    regulates  is_a\n",
      "\n",
      "[66175 rows x 3 columns]\n"
     ]
    }
   ],
   "source": [
    "import pandas as pd\n",
    "import os\n",
    "\n",
    "# Step 2: Read the tab-delimited file into a DataFrame\n",
    "file_path = 'is_a_temp.tsv'\n",
    "df = pd.read_csv(file_path, sep='\\t')\n",
    "\n",
    "# Step 3: Add a new column to the DataFrame\n",
    "df['is_a'] = 'is_a'\n",
    "\n",
    "# Step 4: Save the modified DataFrame to a new file\n",
    "output_file_path = 'is_a_import_2024-07-17.tsv'\n",
    "df.to_csv(output_file_path, sep='\\t', index=False)\n",
    "os.remove(file_path)\n",
    "\n",
    "# Display the DataFrame\n",
    "print(df)"
   ]
  },
  {
   "cell_type": "markdown",
   "metadata": {},
   "source": [
    "Delete the last 8 lines that start with \"term_tracker_item\"."
   ]
  },
  {
   "cell_type": "markdown",
   "metadata": {},
   "source": [
    "Now extract the relationship data between GO terms."
   ]
  },
  {
   "cell_type": "code",
   "execution_count": 2,
   "metadata": {},
   "outputs": [],
   "source": [
    "# Open the input file for reading\n",
    "with open('go_2024-07-17.obo', 'r') as input_file:\n",
    "    # Open a file for writing the tab-delimited rows\n",
    "    with open('go-relationship_temp.tsv', 'w') as output_file:\n",
    "        # Write header\n",
    "        output_file.write(\"id\\trelationship\\n\")\n",
    "\n",
    "        # Initialize variables to store id and relationships\n",
    "        current_id = \"\"\n",
    "        relationships = []\n",
    "\n",
    "        # Iterate through each line in the input file\n",
    "        for line in input_file:\n",
    "            line = line.strip()\n",
    "\n",
    "            # Check if the line starts with \"[Term]\"\n",
    "            if line.startswith(\"[Term]\"):\n",
    "                # If a previous term had relationships, write them to the output file\n",
    "                if current_id and relationships:\n",
    "                    for relationship in relationships:\n",
    "                        output_file.write(f\"{current_id}\\t{relationship}\\n\")\n",
    "\n",
    "                # Reset variables for the new term\n",
    "                current_id = \"\"\n",
    "                relationships = []\n",
    "            elif line.startswith(\"id:\"):\n",
    "                current_id = line.replace(\"id: \", \"\")\n",
    "            elif line.startswith(\"relationship:\"):\n",
    "                relationships.append(line.split(\"relationship:\")[1].strip())\n",
    "\n",
    "        # Write the last term's relationships if any\n",
    "        if current_id and relationships:\n",
    "            for relationship in relationships:\n",
    "                output_file.write(f\"{current_id}\\t{relationship}\\n\")\n"
   ]
  },
  {
   "cell_type": "markdown",
   "metadata": {},
   "source": [
    "Parse only the relevant relationship data from the new tab delimited file."
   ]
  },
  {
   "cell_type": "code",
   "execution_count": 3,
   "metadata": {},
   "outputs": [
    {
     "name": "stdout",
     "output_type": "stream",
     "text": [
      "               id relationship         id2\n",
      "0      GO:0000015      part_of  GO:0005829\n",
      "1      GO:0000018    regulates  GO:0006310\n",
      "2      GO:0000019    regulates  GO:0006312\n",
      "3      GO:0000022      part_of  GO:0000070\n",
      "4      GO:0000022      part_of  GO:0007052\n",
      "...           ...          ...         ...\n",
      "17590  GO:2001310     has_part  GO:0003839\n",
      "17591  GO:2001310     has_part  GO:0004364\n",
      "17592  GO:2001310     has_part  GO:0004497\n",
      "17593  GO:2001310     has_part  GO:0008170\n",
      "17594  GO:2001310     has_part  GO:0008483\n",
      "\n",
      "[17595 rows x 3 columns]\n"
     ]
    }
   ],
   "source": [
    "import pandas as pd\n",
    "import os\n",
    "\n",
    "file_path = 'go-relationship_temp.tsv'\n",
    "df = pd.read_csv(file_path, sep='\\t')\n",
    "\n",
    "df['id2'] = df['relationship'].str.split(' ').str[1]\n",
    "\n",
    "df['relationship'] = df['relationship'].str.split(' ').str[0]\n",
    "\n",
    "output_file_path = 'relationship_import_2024-07-17.tsv'\n",
    "df.to_csv(output_file_path, sep='\\t', index=False)\n",
    "os.remove('go-relationship_temp.tsv')\n",
    "\n",
    "# Display the DataFrame\n",
    "print(df)"
   ]
  }
 ],
 "metadata": {
  "kernelspec": {
   "display_name": "base",
   "language": "python",
   "name": "python3"
  },
  "language_info": {
   "codemirror_mode": {
    "name": "ipython",
    "version": 3
   },
   "file_extension": ".py",
   "mimetype": "text/x-python",
   "name": "python",
   "nbconvert_exporter": "python",
   "pygments_lexer": "ipython3",
   "version": "3.11.4"
  },
  "orig_nbformat": 4
 },
 "nbformat": 4,
 "nbformat_minor": 2
}
